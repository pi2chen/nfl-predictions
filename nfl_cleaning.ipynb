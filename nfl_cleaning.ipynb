{
 "cells": [
  {
   "cell_type": "code",
   "execution_count": 188,
   "metadata": {},
   "outputs": [],
   "source": [
    "import pandas as pd"
   ]
  },
  {
   "cell_type": "code",
   "execution_count": null,
   "metadata": {},
   "outputs": [],
   "source": [
    "# Display all rows and columns\n",
    "\n",
    "pd.set_option('display.max_rows', None)\n",
    "pd.set_option('display.max_columns', None)"
   ]
  },
  {
   "cell_type": "code",
   "execution_count": null,
   "metadata": {},
   "outputs": [],
   "source": [
    "# Read in base data from csv\n",
    "\n",
    "df = pd.read_csv('nfl.csv')\n",
    "df.head(10)"
   ]
  },
  {
   "cell_type": "code",
   "execution_count": null,
   "metadata": {},
   "outputs": [],
   "source": [
    "# FEATURE ENGINEERING: Adding new columns for team 2\n",
    "#\n",
    "# We take the absolute values of the turnover, passing yards, and rushing yards,\n",
    "# and total yards margins of team 1 to reflect those same margins for team 2.\n",
    "\n",
    "df['Team2PtDiff'] = -(df['PtDif'])\n",
    "df['Team2TM'] = -(df['TO'])\n",
    "df['Team2RYM'] = -(df['Rush'])\n",
    "df['Team2PYM'] = -(df['Pass'])\n",
    "df['Team2YM'] = -(df['Tot.1'])\n",
    "\n",
    "df.head()"
   ]
  },
  {
   "cell_type": "code",
   "execution_count": null,
   "metadata": {},
   "outputs": [],
   "source": [
    "# Remove unnecessary columns and rename\n",
    "# TODO: explanation of our decision to keep certain columns\n",
    "\n",
    "columns_to_keep = {\n",
    "  'Rk': 'ID',\n",
    "  'Result':'Team1Won',\n",
    "  'Season': 'Season',\n",
    "  'Date': 'Date',\n",
    "  'Team': 'Team1',\n",
    "  'Opp': 'Team2',\n",
    "  'Away': 'Home',\n",
    "\n",
    "  'Pts': 'Team1Pts',\n",
    "  'PtsO': 'Team2Pts',\n",
    "  'PtDif': 'Team1PtDiff',\n",
    "  'Team2PtDiff': 'Team2PtDiff',\n",
    "  'TO': 'Team1TM',\n",
    "  'Team2TM': 'Team2TM',\n",
    "  'Rate': 'Team1Rating',\n",
    "  'Rate.1': 'Team2Rating',\n",
    "  # 'Y/P': 'Team1Y',\n",
    "  # 'Y/P.1': 'Team2Y',\n",
    "  # 'DY/P': 'Team1DY',\n",
    "  # 'DY/P.1': 'Team2DY', \n",
    "  # 'ToP': 'Team1ToP',\n",
    "  # 'ToP.1': 'Team2ToP',\n",
    "  'Sk': 'Team1Sks',\n",
    "  'Sk.1': 'Team2Sks',\n",
    "  'Yds.1': 'Team1SkYds',\n",
    "  'Yds.3': 'Team2SkYds',\n",
    "  'Rush_Att': 'Team1RushAtt',\n",
    "  'Opp_Rush_Att': 'Team2RushAtt',\n",
    "  'Rush_Yds': 'Team1RushYds',\n",
    "  'Opp_Rush_Yds': 'Team2RushYds',\n",
    "  'Rush': 'Team1RYM',\n",
    "  'Team2RYM': 'Team2RYM',\n",
    "  'Pass': 'Team1PYM',\n",
    "  'Team2PYM': 'Team2PYM',\n",
    "  'Tot.1': 'Team1YM',\n",
    "  'Team2YM': 'Team2YM',\n",
    "}\n",
    "\n",
    "trimmed_df = df[list(columns_to_keep.keys())].rename(columns=columns_to_keep)\n",
    "trimmed_df.head(10)\n",
    "print(trimmed_df.shape)"
   ]
  },
  {
   "cell_type": "code",
   "execution_count": null,
   "metadata": {},
   "outputs": [],
   "source": [
    "# Remove duplicate columns\n",
    "\n",
    "trimmed_df['team_pair'] = trimmed_df.apply(lambda row: frozenset([row['Team1'], row['Team2']]), axis=1)\n",
    "trimmed_df.drop_duplicates(subset=['Date', 'team_pair'], inplace=True)\n",
    "trimmed_df.drop(columns=['team_pair'], inplace=True)\n",
    "trimmed_df.head()\n",
    "\n",
    "print(trimmed_df.shape)"
   ]
  },
  {
   "cell_type": "code",
   "execution_count": null,
   "metadata": {},
   "outputs": [],
   "source": [
    "# Check for null values\n",
    "\n",
    "trimmed_df.isna().any()\n",
    "\n",
    "# The 'Home' column has nulls since a null value means Team 1 is home.\n",
    "# This will be changed to a boolean below."
   ]
  },
  {
   "cell_type": "code",
   "execution_count": null,
   "metadata": {},
   "outputs": [],
   "source": [
    "# Let's include a cell here to check the columns that we've decided to include\n",
    "# in the trimmed down version of the dataset.\n",
    "\n",
    "trimmed_df.head(10)"
   ]
  },
  {
   "cell_type": "code",
   "execution_count": null,
   "metadata": {},
   "outputs": [],
   "source": [
    "# Now, let's perform further data cleaning by setting the data types of all \n",
    "# columns for consistency in our dataframe.\n",
    "#\n",
    "# We set 'Home' to boolean values to signify whether a game record corresponds \n",
    "# to a home game or an away game.\n",
    "#\n",
    "# We also set 'Team1Won' to booleans to represent the result of each game.\n",
    "\n",
    "from datetime import datetime\n",
    "\n",
    "formatted_df = trimmed_df\n",
    "formatted_df['Date'] = formatted_df['Date'].apply(lambda x: datetime.strptime(x, '%Y-%m-%d'))\n",
    "\n",
    "numeric_columns = ['ID',\n",
    "\t\t\t\t   'Season',\n",
    "\t\t\t\t   'Team1Pts',    \n",
    "\t\t\t\t\t 'Team2Pts',    \n",
    "\t\t\t\t\t 'Team1PtDiff',\n",
    "\t\t\t\t\t 'Team2PtDiff', \n",
    "\t\t\t\t\t 'Team1TM',    \n",
    "\t\t\t\t\t 'Team2TM',     \n",
    "\t\t\t\t\t 'Team1Rating', \n",
    "\t\t\t\t\t 'Team2Rating', \n",
    "\t\t\t\t\t 'Team1Sks',    \n",
    "\t\t\t\t\t 'Team2Sks',    \n",
    "\t\t\t\t\t 'Team1SkYds',  \n",
    "\t\t\t\t\t 'Team2SkYds',  \n",
    "\t\t\t\t\t 'Team1RushAtt',\n",
    "\t\t\t\t\t 'Team2RushAtt',\n",
    "\t\t\t\t\t 'Team1RushYds',\n",
    "\t\t\t\t\t 'Team2RushYds',\n",
    "\t\t\t\t\t 'Team1RYM',    \n",
    "\t\t\t\t\t 'Team2RYM',    \n",
    "\t\t\t\t\t 'Team1PYM',    \n",
    "\t\t\t\t\t 'Team2PYM',    \n",
    "\t\t\t\t\t 'Team1YM',     \n",
    "\t\t\t\t\t 'Team2YM']\n",
    "\n",
    "str_columns = ['Team1',\n",
    "\t\t\t   'Team2']\n",
    "\n",
    "for column in numeric_columns:\n",
    "\tformatted_df[column] = pd.to_numeric(formatted_df[column], errors='coerce')\n",
    "\n",
    "for column in str_columns:\n",
    "\tformatted_df[column] = formatted_df[column].astype(str)\n",
    "\n",
    "formatted_df['Home'] = formatted_df['Home'].isnull()\n",
    "\n",
    "formatted_df['Team1Won'] = formatted_df['Team1Won'].apply(lambda x: True if str(x).startswith('W') else False)\n",
    "\n",
    "for column in formatted_df:\n",
    "\tprint(type(formatted_df[column][0]))"
   ]
  },
  {
   "cell_type": "code",
   "execution_count": null,
   "metadata": {},
   "outputs": [],
   "source": [
    "# TODO: Additional feature engineering\n",
    "# TODO: Take the differences of Team1Rating\n",
    "# Team2Rating     \n",
    "# Team1Sks        \n",
    "# Team2Sks        \n",
    "# Team1SkYds      \n",
    "# Team2SkYds      \n",
    "# Team1RushAtt    \n",
    "# Team2RushAtt\n",
    "# Team1RushYds\n",
    "# Team2RushYds\n",
    "# and set them as margins"
   ]
  },
  {
   "cell_type": "code",
   "execution_count": null,
   "metadata": {},
   "outputs": [],
   "source": []
  },
  {
   "cell_type": "code",
   "execution_count": null,
   "metadata": {},
   "outputs": [],
   "source": []
  },
  {
   "cell_type": "code",
   "execution_count": null,
   "metadata": {},
   "outputs": [],
   "source": []
  },
  {
   "cell_type": "code",
   "execution_count": null,
   "metadata": {},
   "outputs": [],
   "source": []
  },
  {
   "cell_type": "code",
   "execution_count": null,
   "metadata": {},
   "outputs": [],
   "source": []
  },
  {
   "cell_type": "markdown",
   "metadata": {},
   "source": [
    "Rk\tTeam\tDate\tSeason\tPts\tPtsO\tRate\tTO\tY/P\tDY/P\tToP\tRate.1\tAtt\tDay\tG#\tWeek\tUnnamed: 16\tOpp\tResult\tPts.1\tPtsO.1\tPtDif\tPC\tCmp\tAtt.1\tInc\tCmp%\tYds\tTD\tInt\tTD%\tInt%\tRate.2\tSk\tYds.1\tSk%\tY/A\tNY/A\tAY/A\tANY/A\tY/C\tRush_Att\tRush_Yds\tY/A.1\tTD.1\tTot\tPly\tY/P.1\tDPly\tDY/P.1\tTO.1\tToP.1\tTime\tCmp.1\tAtt.2\tCmp%.1\tYds.2\tTD.2\tSk.1\tYds.3\tInt.1\tRate.3\tRush\tPass\tTot.1\tTO.2\n",
    "\n",
    "\n",
    "\n",
    "\n",
    "\n",
    "\n",
    "\n",
    "\n",
    "\n",
    "\n",
    "General Game Info\n",
    "Rk, Season, Date, Team, Opp, Away, Result\n",
    "\n",
    "Team 1 Stats\n",
    "Pts, Rate, TO, ToP, Y/P, DY/P, Sk, Yds.1, Rush__Yds\n",
    "sh_Yds\n",
    "\n",
    "Team 2 S\n",
    "PtsO, Opp_Rate, TO.1, ToP.1, Y/P.1, DY/P.1, Sk.1, Yds Yds.3UselUss\n",
    "Da\n",
    " Week, G#, Time\n",
    "meRepeReed\n",
    "Pt\n",
    "1, PtsO.1,\n",
    "\n",
    "\n",
    "\n",
    "Red\n",
    "Rate.1, Rate.2\n",
    "PC,\n",
    "Inc, Sk%, Y/A, NY/A, AY/A, ANY/A, Y/C, Tot, Ply, DPly, Rush, Pass, Tot.1, TO.2\n",
    "Cmp, Att, Cmp%, Yds, TD, TD%, Int, Int%,\n",
    "Cmp.1, Att.1, Cmp%.1, Yds.2, TD.1, Int.1\n",
    "%,\n",
    "\n",
    "**Undecided**\n",
    "Dif,"
   ]
  },
  {
   "cell_type": "markdown",
   "metadata": {},
   "source": []
  },
  {
   "cell_type": "code",
   "execution_count": 197,
   "metadata": {},
   "outputs": [],
   "source": [
    "# print('hello')"
   ]
  },
  {
   "cell_type": "code",
   "execution_count": 198,
   "metadata": {},
   "outputs": [],
   "source": [
    "df = df.reset_index(drop=True)"
   ]
  },
  {
   "cell_type": "code",
   "execution_count": 199,
   "metadata": {},
   "outputs": [],
   "source": [
    "# delete the useless stats - \n"
   ]
  },
  {
   "cell_type": "markdown",
   "metadata": {},
   "source": [
    "\n",
    "\n",
    "\n",
    "\n",
    "Team 1 Stats\n",
    "Pts, Rate, TO, ToP, Y/P, DY/P, Sk, Yds.1, Rush__Yds\n",
    "sh_Yds\n",
    "\n",
    "Team 2 S\n",
    "PtsO, Opp_Rate, TO.1, ToP.1, Y/P.1, DY/P.1, Sk.1, Yds Yds.3UselUss\n",
    "Da\n",
    " Week, G#, Time\n",
    "meRepeReed\n",
    "Pt\n",
    "1, PtsO.1,\n",
    "\n",
    "\n",
    "\n",
    "Red\n",
    "Rate.1, Rate.2\n",
    "PC,\n",
    "Inc, Sk%, Y/A, NY/A, AY/A, ANY/A, Y/C, Tot, Ply, DPly, Rush, Pass, Tot.1, TO.2\n",
    "Cmp, Att, Cmp%, Yds, TD, TD%, Int, Int%,\n",
    "Cmp.1, Att.1, Cmp%.1, Yds.2, TD.1, Int.1\n",
    "%,\n",
    "\n"
   ]
  }
 ],
 "metadata": {
  "kernelspec": {
   "display_name": "base",
   "language": "python",
   "name": "python3"
  },
  "language_info": {
   "codemirror_mode": {
    "name": "ipython",
    "version": 3
   },
   "file_extension": ".py",
   "mimetype": "text/x-python",
   "name": "python",
   "nbconvert_exporter": "python",
   "pygments_lexer": "ipython3",
   "version": "3.11.5"
  }
 },
 "nbformat": 4,
 "nbformat_minor": 2
}
