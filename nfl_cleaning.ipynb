{
 "cells": [
  {
   "cell_type": "code",
   "execution_count": null,
   "metadata": {},
   "outputs": [],
   "source": [
    "import pandas as pd"
   ]
  },
  {
   "cell_type": "code",
   "execution_count": 58,
   "metadata": {},
   "outputs": [],
   "source": [
    "# Display all rows and columns\n",
    "pd.set_option('display.max_rows', None)\n",
    "pd.set_option('display.max_columns', None)"
   ]
  },
  {
   "cell_type": "code",
   "execution_count": 59,
   "metadata": {},
   "outputs": [],
   "source": [
    "# Read in base data from csv\n",
    "df = pd.read_csv('nfl.csv')\n",
    "df.head(10)"
   ]
  },
  {
   "cell_type": "code",
   "execution_count": 60,
   "metadata": {},
   "outputs": [],
   "source": [
    "# Adding new columns for team 2\n",
    "\n",
    "df['Team2PtDiff'] = -(df['PtDif'])\n",
    "df['Team2TM'] = -(df['TO'])\n",
    "df['Team2RYM'] = -(df['Rush'])\n",
    "df['Team2PYM'] = -(df['Pass'])\n",
    "df['Team2YM'] = -(df['Tot.1'])\n",
    "\n",
    "df.head()"
   ]
  },
  {
   "cell_type": "code",
   "execution_count": 61,
   "metadata": {},
   "outputs": [
    {
     "name": "stdout",
     "output_type": "stream",
     "text": [
      "(1478, 29)\n"
     ]
    }
   ],
   "source": [
    "# Remove unnecessary columns and renaming\n",
    "\n",
    "# columns_to_keep = {\n",
    "#   'Rk': 'ID',\n",
    "#   'Result':'Result',\n",
    "#   'Season': 'Season',\n",
    "#   'Date': 'Date',\n",
    "#   'Team': 'Team1',\n",
    "#   'Opp': 'Team2',\n",
    "#   'Away': 'Home',\n",
    "\n",
    "#   'Pts': 'Team1Pts',\n",
    "#   'PtDif': 'Team1PtDiff',\n",
    "#   'TO': 'Team1TM',\n",
    "#   'Rate': 'Team1Rating',\n",
    "#   'Y/P': 'Team1Y',\n",
    "#   'DY/P': 'Team1DY',\n",
    "#   'ToP': 'Team1ToP',\n",
    "#   'Sk': 'Team1Sks',\n",
    "#   'Yds.1': 'Team1SkYds',\n",
    "#   'Rush_Att': 'Team1RushAtt',\n",
    "#   'Rush_Yds': 'Team1RushYds',\n",
    "#   'Rush': 'Team1RYM',\n",
    "#   'Pass': 'Team1PYM',\n",
    "#   'Tot.1': 'Team1YM',\n",
    "\n",
    "#   'PtsO': 'Team2Pts',\n",
    "#   'Team2PtDiff': 'Team2PtDiff',\n",
    "#   'Team2TM': 'Team2TM',\n",
    "#   'Rate.2': 'Team2Rating',\n",
    "#   'Y/P.1': 'Team2Y',\n",
    "#   'DY/P.1': 'Team2DY',\n",
    "#   'ToP.1': 'Team2ToP',\n",
    "#   'Sk.1': 'Team2Sks',\n",
    "#   'Yds.3': 'Team2SkYds',\n",
    "#   'Opp_Rush_Att': 'Team2RushAtt',\n",
    "#   'Opp_Rush_Yds': 'Team2RushYds',\n",
    "#   'Team2RYM': 'Team2RYM',\n",
    "#   'Team2PYM': 'Team2PYM',\n",
    "#   'Team2YM': 'Team2YM',\n",
    "# }\n",
    "\n",
    "columns_to_keep = {\n",
    "  'Rk': 'ID',\n",
    "  'Result':'Result',\n",
    "  'Season': 'Season',\n",
    "  'Date': 'Date',\n",
    "  'Team': 'Team1',\n",
    "  'Opp': 'Team2',\n",
    "  'Away': 'Home',\n",
    "\n",
    "  'Pts': 'Team1Pts',\n",
    "  'PtsO': 'Team2Pts',\n",
    "  'PtDif': 'Team1PtDiff',\n",
    "  'Team2PtDiff': 'Team2PtDiff',\n",
    "  'TO': 'Team1TM',\n",
    "  'Team2TM': 'Team2TM',\n",
    "  'Rate': 'Team1Rating',\n",
    "  'Rate.1': 'Team2Rating',\n",
    "  # 'Y/P': 'Team1Y',\n",
    "  # 'Y/P.1': 'Team2Y',\n",
    "  # 'DY/P': 'Team1DY',\n",
    "  # 'DY/P.1': 'Team2DY', \n",
    "  # 'ToP': 'Team1ToP',\n",
    "  # 'ToP.1': 'Team2ToP',\n",
    "  'Sk': 'Team1Sks',\n",
    "  'Sk.1': 'Team2Sks',\n",
    "  'Yds.1': 'Team1SkYds',\n",
    "  'Yds.3': 'Team2SkYds',\n",
    "  'Rush_Att': 'Team1RushAtt',\n",
    "  'Opp_Rush_Att': 'Team2RushAtt',\n",
    "  'Rush_Yds': 'Team1RushYds',\n",
    "  'Opp_Rush_Yds': 'Team2RushYds',\n",
    "  'Rush': 'Team1RYM',\n",
    "  'Team2RYM': 'Team2RYM',\n",
    "  'Pass': 'Team1PYM',\n",
    "  'Team2PYM': 'Team2PYM',\n",
    "  'Tot.1': 'Team1YM',\n",
    "  'Team2YM': 'Team2YM',\n",
    "}\n",
    "\n",
    "trimmed_df = df[list(columns_to_keep.keys())].rename(columns=columns_to_keep)\n",
    "trimmed_df.head(10)\n",
    "print(trimmed_df.shape)"
   ]
  },
  {
   "cell_type": "code",
   "execution_count": 62,
   "metadata": {},
   "outputs": [
    {
     "name": "stdout",
     "output_type": "stream",
     "text": [
      "(739, 29)\n"
     ]
    }
   ],
   "source": [
    "# Removing duplicates\n",
    "\n",
    "trimmed_df['team_pair'] = trimmed_df.apply(lambda row: frozenset([row['Team1'], row['Team2']]), axis=1)\n",
    "trimmed_df.drop_duplicates(subset=['Date', 'team_pair'], inplace=True)\n",
    "trimmed_df.drop(columns=['team_pair'], inplace=True)\n",
    "trimmed_df.head()\n",
    "print(trimmed_df.shape)"
   ]
  },
  {
   "cell_type": "code",
   "execution_count": null,
   "metadata": {},
   "outputs": [],
   "source": [
    "# Setting the data types of all columns\n",
    "\n",
    "from datetime import datetime\n",
    "trimmed_df['Date'] = trimmed_df['Date'].apply(lambda x: datetime.strptime(x, '%Y-%m-%d'))\n",
    "\n"
   ]
  },
  {
   "cell_type": "code",
   "execution_count": null,
   "metadata": {},
   "outputs": [],
   "source": [
    "#data cleaning\n",
    "dtrimmed_dfme_df= dtrim.med_dfsort_values(\"Da\")\n",
    "\n",
    "\n",
    "trim"
   ]
  },
  {
   "cell_type": "code",
   "execution_count": null,
   "metadata": {},
   "outputs": [],
   "source": []
  },
  {
   "cell_type": "code",
   "execution_count": null,
   "metadata": {},
   "outputs": [],
   "source": []
  },
  {
   "cell_type": "code",
   "execution_count": null,
   "metadata": {},
   "outputs": [],
   "source": []
  },
  {
   "cell_type": "code",
   "execution_count": null,
   "metadata": {},
   "outputs": [],
   "source": []
  },
  {
   "cell_type": "code",
   "execution_count": null,
   "metadata": {},
   "outputs": [],
   "source": []
  },
  {
   "cell_type": "markdown",
   "metadata": {},
   "source": [
    "Rk\tTeam\tDate\tSeason\tPts\tPtsO\tRate\tTO\tY/P\tDY/P\tToP\tRate.1\tAtt\tDay\tG#\tWeek\tUnnamed: 16\tOpp\tResult\tPts.1\tPtsO.1\tPtDif\tPC\tCmp\tAtt.1\tInc\tCmp%\tYds\tTD\tInt\tTD%\tInt%\tRate.2\tSk\tYds.1\tSk%\tY/A\tNY/A\tAY/A\tANY/A\tY/C\tRush_Att\tRush_Yds\tY/A.1\tTD.1\tTot\tPly\tY/P.1\tDPly\tDY/P.1\tTO.1\tToP.1\tTime\tCmp.1\tAtt.2\tCmp%.1\tYds.2\tTD.2\tSk.1\tYds.3\tInt.1\tRate.3\tRush\tPass\tTot.1\tTO.2\n",
    "\n",
    "\n",
    "\n",
    "\n",
    "\n",
    "\n",
    "\n",
    "\n",
    "\n",
    "\n",
    "General Game Info\n",
    "Rk, Season, Date, Team, Opp, Away, Result\n",
    "\n",
    "Team 1 Stats\n",
    "Pts, Rate, TO, ToP, Y/P, DY/P, Sk, Yds.1, Rush__Yds\n",
    "sh_Yds\n",
    "\n",
    "Team 2 S\n",
    "PtsO, Opp_Rate, TO.1, ToP.1, Y/P.1, DY/P.1, Sk.1, Yds Yds.3UselUss\n",
    "Da\n",
    " Week, G#, Time\n",
    "meRepeReed\n",
    "Pt\n",
    "1, PtsO.1,\n",
    "\n",
    "\n",
    "\n",
    "Red\n",
    "Rate.1, Rate.2\n",
    "PC,\n",
    "Inc, Sk%, Y/A, NY/A, AY/A, ANY/A, Y/C, Tot, Ply, DPly, Rush, Pass, Tot.1, TO.2\n",
    "Cmp, Att, Cmp%, Yds, TD, TD%, Int, Int%,\n",
    "Cmp.1, Att.1, Cmp%.1, Yds.2, TD.1, Int.1\n",
    "%,\n",
    "\n",
    "**Undecided**\n",
    "Dif,"
   ]
  },
  {
   "cell_type": "markdown",
   "metadata": {},
   "source": []
  },
  {
   "cell_type": "code",
   "execution_count": null,
   "metadata": {},
   "outputs": [],
   "source": [
    "# print('hello')"
   ]
  },
  {
   "cell_type": "code",
   "execution_count": 31,
   "metadata": {},
   "outputs": [],
   "source": [
    "df = df.reset_index(drop=True)"
   ]
  },
  {
   "cell_type": "code",
   "execution_count": null,
   "metadata": {},
   "outputs": [],
   "source": [
    "# delete the useless stats - \n"
   ]
  },
  {
   "cell_type": "markdown",
   "metadata": {},
   "source": [
    "\n",
    "\n",
    "\n",
    "\n",
    "Team 1 Stats\n",
    "Pts, Rate, TO, ToP, Y/P, DY/P, Sk, Yds.1, Rush__Yds\n",
    "sh_Yds\n",
    "\n",
    "Team 2 S\n",
    "PtsO, Opp_Rate, TO.1, ToP.1, Y/P.1, DY/P.1, Sk.1, Yds Yds.3UselUss\n",
    "Da\n",
    " Week, G#, Time\n",
    "meRepeReed\n",
    "Pt\n",
    "1, PtsO.1,\n",
    "\n",
    "\n",
    "\n",
    "Red\n",
    "Rate.1, Rate.2\n",
    "PC,\n",
    "Inc, Sk%, Y/A, NY/A, AY/A, ANY/A, Y/C, Tot, Ply, DPly, Rush, Pass, Tot.1, TO.2\n",
    "Cmp, Att, Cmp%, Yds, TD, TD%, Int, Int%,\n",
    "Cmp.1, Att.1, Cmp%.1, Yds.2, TD.1, Int.1\n",
    "%,\n",
    "\n"
   ]
  }
 ],
 "metadata": {
  "kernelspec": {
   "display_name": "base",
   "language": "python",
   "name": "python3"
  },
  "language_info": {
   "codemirror_mode": {
    "name": "ipython",
    "version": 3
   },
   "file_extension": ".py",
   "mimetype": "text/x-python",
   "name": "python",
   "nbconvert_exporter": "python",
   "pygments_lexer": "ipython3",
   "version": "3.11.5"
  }
 },
 "nbformat": 4,
 "nbformat_minor": 2
}
