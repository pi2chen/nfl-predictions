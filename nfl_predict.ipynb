{
 "cells": [
  {
   "cell_type": "code",
   "execution_count": null,
   "metadata": {},
   "outputs": [],
   "source": [
    "#get new csv from nfl_cleaning.pynb\n",
    "df = pd.read_csv('new_csv')"
   ]
  },
  {
   "cell_type": "code",
   "execution_count": null,
   "metadata": {},
   "outputs": [],
   "source": [
    "df = df.sort_values('Date')"
   ]
  },
  {
   "cell_type": "code",
   "execution_count": null,
   "metadata": {},
   "outputs": [],
   "source": [
    "#shift by 1 to align the data so that the target is representative of the next game\n",
    "#this is reflected in target column\n",
    "\n",
    "#https://www.youtube.com/watch?v=egTylm6C2is\n",
    "\n",
    "def target_column(group, shift_steps=-1, column=\"Team1Won\", target_name=\"target\"):\n",
    "    group[target_name] = group[column].shift(shift_steps)\n",
    "    return group\n",
    "\n",
    "\n",
    "\n",
    "df = df.groupby(\"team1\", group_keys=False).apply(target_column)"
   ]
  },
  {
   "cell_type": "code",
   "execution_count": null,
   "metadata": {},
   "outputs": [],
   "source": [
    "#check \n",
    "df[df[\"team1\"] == \"SFO\"]"
   ]
  },
  {
   "cell_type": "code",
   "execution_count": null,
   "metadata": {},
   "outputs": [],
   "source": [
    "df[\"target\"].value_counts()"
   ]
  },
  {
   "cell_type": "code",
   "execution_count": null,
   "metadata": {},
   "outputs": [],
   "source": [
    "# use the sequentialfeatureselector? or try something else? PCA wont work here"
   ]
  },
  {
   "cell_type": "code",
   "execution_count": null,
   "metadata": {},
   "outputs": [],
   "source": [
    "#rolling averages of the past. \n",
    "\n",
    "def add_rolling_averages():\n"
   ]
  },
  {
   "cell_type": "code",
   "execution_count": null,
   "metadata": {},
   "outputs": [],
   "source": [
    "import pandas as pd"
   ]
  },
  {
   "cell_type": "code",
   "execution_count": null,
   "metadata": {},
   "outputs": [],
   "source": [
    "#get new csv from nfl_cleaning.pynb\n",
    "df = pd.read_csv('new_csv')"
   ]
  },
  {
   "cell_type": "code",
   "execution_count": null,
   "metadata": {},
   "outputs": [],
   "source": [
    "df = df.sort_values('Date')"
   ]
  },
  {
   "cell_type": "code",
   "execution_count": null,
   "metadata": {},
   "outputs": [],
   "source": [
    "# new indexes\n",
    "df.index= range(len(df))"
   ]
  },
  {
   "cell_type": "code",
   "execution_count": null,
   "metadata": {},
   "outputs": [],
   "source": [
    "#shift by 1 to align the data so that the target is representative of the next game\n",
    "#this is reflected in target column\n",
    "\n",
    "#https://www.youtube.com/watch?v=egTylm6C2is\n",
    "\n",
    "def target_column(group, shift_steps=-1, column=\"Team1Won\", target_name=\"target\"):\n",
    "    group[target_name] = group[column].shift(shift_steps)\n",
    "    return group\n",
    "\n",
    "df = df.groupby(\"team1\", group_keys=False).apply(target_column)"
   ]
  },
  {
   "cell_type": "code",
   "execution_count": null,
   "metadata": {},
   "outputs": [],
   "source": [
    "#check \n",
    "df[df[\"team1\"] == \"SFO\"]"
   ]
  },
  {
   "cell_type": "code",
   "execution_count": null,
   "metadata": {},
   "outputs": [],
   "source": [
    "\n",
    "df[\"Team1Won\"].value_counts()"
   ]
  },
  {
   "cell_type": "code",
   "execution_count": null,
   "metadata": {},
   "outputs": [],
   "source": [
    "df[\"target\"].value_counts()"
   ]
  },
  {
   "cell_type": "code",
   "execution_count": null,
   "metadata": {},
   "outputs": [],
   "source": [
    "# use the sequentialfeatureselector? or try something else? PCA wont work here"
   ]
  },
  {
   "cell_type": "code",
   "execution_count": null,
   "metadata": {},
   "outputs": [],
   "source": [
    "#rolling averages of the past. \n",
    "\n",
    "def add_rolling_averages():\n",
    "\n",
    "\n",
    "df = add_rolling_averages(df, columns=columns_to_average, window=10)"
   ]
  }
 ],
 "metadata": {
  "kernelspec": {
   "display_name": "base",
   "language": "python",
   "name": "python3"
  },
  "language_info": {
   "name": "python",
   "version": "3.11.5"
  }
 },
 "nbformat": 4,
 "nbformat_minor": 2
}
